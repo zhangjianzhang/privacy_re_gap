{
 "cells": [
  {
   "cell_type": "code",
   "execution_count": 1,
   "id": "db86d40b-b301-4a69-9feb-a0c7ce16a61d",
   "metadata": {},
   "outputs": [],
   "source": [
    "from utils.fileUtils import *"
   ]
  },
  {
   "cell_type": "code",
   "execution_count": 2,
   "id": "83bc0962-228a-474c-a8bf-b3b338c9eda8",
   "metadata": {},
   "outputs": [],
   "source": [
    "lines = readExcelToList('./facebook-2939-no-duplicate.xlsx')"
   ]
  },
  {
   "cell_type": "code",
   "execution_count": 3,
   "id": "3831256b-0810-4569-84dc-245734fa683f",
   "metadata": {},
   "outputs": [],
   "source": [
    "assert len(lines) == 2913"
   ]
  },
  {
   "cell_type": "code",
   "execution_count": 4,
   "id": "f4f1d4fa-8799-4dac-a16f-453f9202ed59",
   "metadata": {},
   "outputs": [
    {
     "data": {
      "text/plain": [
       "2913"
      ]
     },
     "execution_count": 4,
     "metadata": {},
     "output_type": "execute_result"
    }
   ],
   "source": [
    "len(lines)"
   ]
  },
  {
   "cell_type": "code",
   "execution_count": 5,
   "id": "afdefcd4-c7a3-4478-8245-008d0984da11",
   "metadata": {},
   "outputs": [],
   "source": [
    "lines = lines[1:]"
   ]
  },
  {
   "cell_type": "code",
   "execution_count": 6,
   "id": "4d74c282-e74a-4edb-b514-f2ce951b898f",
   "metadata": {},
   "outputs": [
    {
     "data": {
      "text/plain": [
       "2912"
      ]
     },
     "execution_count": 6,
     "metadata": {},
     "output_type": "execute_result"
    }
   ],
   "source": [
    "len(lines)"
   ]
  },
  {
   "cell_type": "code",
   "execution_count": 7,
   "id": "ee26b7f6-017e-49d9-85e8-0d80f9ee475b",
   "metadata": {},
   "outputs": [],
   "source": [
    "reviews = []\n",
    "\n",
    "for line in lines:\n",
    "    reviews.append(line[3])"
   ]
  },
  {
   "cell_type": "code",
   "execution_count": 8,
   "id": "4dc51f88-88f4-42bf-8db2-253603a0919a",
   "metadata": {},
   "outputs": [],
   "source": [
    "import numpy as np\n",
    "reviews_arr = np.asarray(reviews)"
   ]
  },
  {
   "cell_type": "code",
   "execution_count": 9,
   "id": "547fad01-fde4-495a-857b-bd849a95ad3f",
   "metadata": {},
   "outputs": [],
   "source": [
    "assert lines[98][3] == reviews[98]"
   ]
  },
  {
   "cell_type": "code",
   "execution_count": 10,
   "id": "7aa57c95-c734-4542-89a4-99750a011c8b",
   "metadata": {},
   "outputs": [
    {
     "data": {
      "text/plain": [
       "'Privacy is not safe. The Federal Trade Commission confirmed that it had opened an investigation of Facebook, and the Senate Judiciary Committee called on the companys chief executive, Mark Zuckerberg, to testify as scrutiny mounts over the social media giants handling of user data. Your privacy is not safe'"
      ]
     },
     "execution_count": 10,
     "metadata": {},
     "output_type": "execute_result"
    }
   ],
   "source": [
    "lines[98][3]"
   ]
  },
  {
   "cell_type": "code",
   "execution_count": 11,
   "id": "fa5ef01b-6aa2-477f-90f3-65ae7a4bafb5",
   "metadata": {},
   "outputs": [
    {
     "data": {
      "text/plain": [
       "[99,\n",
       " 0.625495374,\n",
       " 'Privacy is not safe',\n",
       " 'Privacy is not safe. The Federal Trade Commission confirmed that it had opened an investigation of Facebook, and the Senate Judiciary Committee called on the companys chief executive, Mark Zuckerberg, to testify as scrutiny mounts over the social media giants handling of user data. Your privacy is not safe',\n",
       " 1,\n",
       " datetime.datetime(2021, 5, 19, 2, 0),\n",
       " '=LEN(TRIM(D100))-LEN(SUBSTITUTE(D100,\" \",\"\"))+1']"
      ]
     },
     "execution_count": 11,
     "metadata": {},
     "output_type": "execute_result"
    }
   ],
   "source": [
    "lines[98]"
   ]
  },
  {
   "cell_type": "code",
   "execution_count": 12,
   "id": "ed8e2fa2-025b-4a68-9267-f0c6b4dbaa98",
   "metadata": {},
   "outputs": [
    {
     "data": {
      "text/plain": [
       "'Privacy is not safe. The Federal Trade Commission confirmed that it had opened an investigation of Facebook, and the Senate Judiciary Committee called on the companys chief executive, Mark Zuckerberg, to testify as scrutiny mounts over the social media giants handling of user data. Your privacy is not safe'"
      ]
     },
     "execution_count": 12,
     "metadata": {},
     "output_type": "execute_result"
    }
   ],
   "source": [
    "reviews[98]"
   ]
  },
  {
   "cell_type": "code",
   "execution_count": 13,
   "id": "4bae3cda-badc-4f27-bd35-774538b07436",
   "metadata": {},
   "outputs": [],
   "source": [
    "# import spacy\n",
    "\n",
    "# nlp = spacy.load('en_core_web_trf')\n",
    "\n",
    "# line = lines[69]\n",
    "\n",
    "# line\n",
    "\n",
    "# start_token = '<START>'\n",
    "# end_token = '<END>'\n",
    "\n",
    "# lemma_list = []\n",
    "# for line in lines[1:]:\n",
    "#     text = line[3]\n",
    "#     doc = nlp(text)\n",
    "#     lemma_list.append(start_token)\n",
    "#     for token in doc:\n",
    "#         lemma = token.lemma_\n",
    "#         lemma_list.append(lemma)\n",
    "#     lemma_list.append(end_token)    \n",
    "\n",
    "# import nltk\n",
    "\n",
    "# review_text = nltk.Text(lemma_list)"
   ]
  },
  {
   "cell_type": "code",
   "execution_count": 14,
   "id": "6e767ad6-6608-4f5f-801e-031e707e799d",
   "metadata": {},
   "outputs": [],
   "source": [
    "review_text = loadFromFile('./review_text.pkl')"
   ]
  },
  {
   "cell_type": "code",
   "execution_count": 15,
   "id": "dfe36c44",
   "metadata": {},
   "outputs": [],
   "source": [
    "lda_model = loadFromFile('./lda_model_8_4-23.pk')"
   ]
  },
  {
   "cell_type": "code",
   "execution_count": 16,
   "id": "9d1e92f1",
   "metadata": {},
   "outputs": [],
   "source": [
    "# help(lda_model)"
   ]
  },
  {
   "cell_type": "code",
   "execution_count": 17,
   "id": "dcf8516c",
   "metadata": {},
   "outputs": [],
   "source": [
    "doc_topic = loadFromFile('./lda_8-4-23_matrix.pk')"
   ]
  },
  {
   "cell_type": "code",
   "execution_count": 18,
   "id": "ae82fe43",
   "metadata": {},
   "outputs": [
    {
     "data": {
      "text/plain": [
       "(2912, 8)"
      ]
     },
     "execution_count": 18,
     "metadata": {},
     "output_type": "execute_result"
    }
   ],
   "source": [
    "doc_topic.shape"
   ]
  },
  {
   "cell_type": "code",
   "execution_count": 19,
   "id": "2e9eecac",
   "metadata": {
    "scrolled": true
   },
   "outputs": [
    {
     "data": {
      "text/plain": [
       "array([[0.0114    , 0.0114    , 0.0114    , ..., 0.0114    , 0.0114    ,\n",
       "        0.0114    ],\n",
       "       [0.0128    , 0.0128    , 0.0128    , ..., 0.324     , 0.0128    ,\n",
       "        0.0128    ],\n",
       "       [0.2106    , 0.32690001, 0.45140001, ..., 0.        , 0.        ,\n",
       "        0.        ],\n",
       "       ...,\n",
       "       [0.57080001, 0.3989    , 0.        , ..., 0.        , 0.        ,\n",
       "        0.        ],\n",
       "       [0.95829999, 0.        , 0.        , ..., 0.        , 0.        ,\n",
       "        0.        ],\n",
       "       [0.1936    , 0.146     , 0.0431    , ..., 0.        , 0.        ,\n",
       "        0.        ]])"
      ]
     },
     "execution_count": 19,
     "metadata": {},
     "output_type": "execute_result"
    }
   ],
   "source": [
    "doc_topic"
   ]
  },
  {
   "cell_type": "code",
   "execution_count": 20,
   "id": "902d7cb0-c8eb-4875-b64e-753c51cc6b2e",
   "metadata": {},
   "outputs": [],
   "source": [
    "id2word_dic = lda_model.id2word"
   ]
  },
  {
   "cell_type": "code",
   "execution_count": 21,
   "id": "cb948516-1d1d-476e-b5a3-40276736d3ec",
   "metadata": {},
   "outputs": [
    {
     "data": {
      "text/plain": [
       "'account'"
      ]
     },
     "execution_count": 21,
     "metadata": {},
     "output_type": "execute_result"
    }
   ],
   "source": [
    "id2word_dic[14]"
   ]
  },
  {
   "cell_type": "code",
   "execution_count": 22,
   "id": "6d645027",
   "metadata": {},
   "outputs": [
    {
     "data": {
      "text/plain": [
       "[(14, 0.049290575),\n",
       " (42, 0.02261153),\n",
       " (37, 0.0184142),\n",
       " (41, 0.0148355765),\n",
       " (24, 0.014369249),\n",
       " (76, 0.011849722),\n",
       " (369, 0.011711424),\n",
       " (609, 0.010657498),\n",
       " (111, 0.010048506),\n",
       " (96, 0.009081854),\n",
       " (112, 0.008925105),\n",
       " (303, 0.008144669),\n",
       " (114, 0.007831498),\n",
       " (2, 0.007527008),\n",
       " (777, 0.0073702834),\n",
       " (78, 0.0073167607),\n",
       " (152, 0.007250181),\n",
       " (1, 0.0069301114),\n",
       " (134, 0.006878491),\n",
       " (219, 0.00663019)]"
      ]
     },
     "execution_count": 22,
     "metadata": {},
     "output_type": "execute_result"
    }
   ],
   "source": [
    "lda_model.get_topic_terms(0,20)"
   ]
  },
  {
   "cell_type": "code",
   "execution_count": 128,
   "id": "531e2dff-011c-4291-98b3-81932bd5f627",
   "metadata": {},
   "outputs": [],
   "source": [
    "topic_word_table = []"
   ]
  },
  {
   "cell_type": "code",
   "execution_count": 129,
   "id": "d576d12d-1b15-4259-90f7-eeebc6f85da0",
   "metadata": {},
   "outputs": [],
   "source": [
    "for i in range(8):\n",
    "    word_list, prob_list = [],[]\n",
    "    for wordid,prob in lda_model.get_topic_terms(i,22):\n",
    "        word_list.append(id2word_dic[wordid])\n",
    "        prob_list.append(prob)\n",
    "    topic_word_table.append(word_list)\n",
    "    %topic_word_table.append(prob_list)"
   ]
  },
  {
   "cell_type": "code",
   "execution_count": 130,
   "id": "73d4479b-7eeb-4bc1-a730-ac0c3d702952",
   "metadata": {},
   "outputs": [],
   "source": [
    "import pandas as pd"
   ]
  },
  {
   "cell_type": "code",
   "execution_count": 131,
   "id": "c91af627-f89f-4079-8d05-a45ed05fcaf4",
   "metadata": {},
   "outputs": [],
   "source": [
    "df = pd.DataFrame(topic_word_table)"
   ]
  },
  {
   "cell_type": "code",
   "execution_count": 132,
   "id": "e6a14e7b-95e1-4a01-9bb4-e028a2ab17fb",
   "metadata": {},
   "outputs": [
    {
     "data": {
      "text/html": [
       "<div>\n",
       "<style scoped>\n",
       "    .dataframe tbody tr th:only-of-type {\n",
       "        vertical-align: middle;\n",
       "    }\n",
       "\n",
       "    .dataframe tbody tr th {\n",
       "        vertical-align: top;\n",
       "    }\n",
       "\n",
       "    .dataframe thead th {\n",
       "        text-align: right;\n",
       "    }\n",
       "</style>\n",
       "<table border=\"1\" class=\"dataframe\">\n",
       "  <thead>\n",
       "    <tr style=\"text-align: right;\">\n",
       "      <th></th>\n",
       "      <th>0</th>\n",
       "      <th>1</th>\n",
       "      <th>2</th>\n",
       "      <th>3</th>\n",
       "      <th>4</th>\n",
       "      <th>5</th>\n",
       "      <th>6</th>\n",
       "      <th>7</th>\n",
       "      <th>8</th>\n",
       "      <th>9</th>\n",
       "      <th>10</th>\n",
       "      <th>11</th>\n",
       "      <th>12</th>\n",
       "      <th>13</th>\n",
       "      <th>14</th>\n",
       "      <th>15</th>\n",
       "    </tr>\n",
       "  </thead>\n",
       "  <tbody>\n",
       "    <tr>\n",
       "      <th>0</th>\n",
       "      <td>account</td>\n",
       "      <td>0.049291</td>\n",
       "      <td>use</td>\n",
       "      <td>0.029017</td>\n",
       "      <td>datum</td>\n",
       "      <td>0.027079</td>\n",
       "      <td>information</td>\n",
       "      <td>0.034175</td>\n",
       "      <td>censorship</td>\n",
       "      <td>0.042573</td>\n",
       "      <td>privacy</td>\n",
       "      <td>0.057825</td>\n",
       "      <td>censor</td>\n",
       "      <td>0.034645</td>\n",
       "      <td>account</td>\n",
       "      <td>0.019971</td>\n",
       "    </tr>\n",
       "    <tr>\n",
       "      <th>1</th>\n",
       "      <td>use</td>\n",
       "      <td>0.022612</td>\n",
       "      <td>account</td>\n",
       "      <td>0.018332</td>\n",
       "      <td>privacy</td>\n",
       "      <td>0.021967</td>\n",
       "      <td>datum</td>\n",
       "      <td>0.033475</td>\n",
       "      <td>censor</td>\n",
       "      <td>0.036337</td>\n",
       "      <td>use</td>\n",
       "      <td>0.030653</td>\n",
       "      <td>information</td>\n",
       "      <td>0.023475</td>\n",
       "      <td>video</td>\n",
       "      <td>0.015834</td>\n",
       "    </tr>\n",
       "    <tr>\n",
       "      <th>2</th>\n",
       "      <td>report</td>\n",
       "      <td>0.018414</td>\n",
       "      <td>business</td>\n",
       "      <td>0.018235</td>\n",
       "      <td>sell</td>\n",
       "      <td>0.018575</td>\n",
       "      <td>sell</td>\n",
       "      <td>0.030243</td>\n",
       "      <td>speech</td>\n",
       "      <td>0.033109</td>\n",
       "      <td>information</td>\n",
       "      <td>0.02676</td>\n",
       "      <td>share</td>\n",
       "      <td>0.022051</td>\n",
       "      <td>share</td>\n",
       "      <td>0.015133</td>\n",
       "    </tr>\n",
       "    <tr>\n",
       "      <th>3</th>\n",
       "      <td>social</td>\n",
       "      <td>0.014836</td>\n",
       "      <td>hack</td>\n",
       "      <td>0.014628</td>\n",
       "      <td>information</td>\n",
       "      <td>0.01699</td>\n",
       "      <td>use</td>\n",
       "      <td>0.024564</td>\n",
       "      <td>right</td>\n",
       "      <td>0.031869</td>\n",
       "      <td>track</td>\n",
       "      <td>0.015023</td>\n",
       "      <td>truth</td>\n",
       "      <td>0.019217</td>\n",
       "      <td>information</td>\n",
       "      <td>0.012917</td>\n",
       "    </tr>\n",
       "    <tr>\n",
       "      <th>4</th>\n",
       "      <td>delete</td>\n",
       "      <td>0.014369</td>\n",
       "      <td>datum</td>\n",
       "      <td>0.012462</td>\n",
       "      <td>policy</td>\n",
       "      <td>0.014052</td>\n",
       "      <td>privacy</td>\n",
       "      <td>0.016703</td>\n",
       "      <td>freedom</td>\n",
       "      <td>0.028669</td>\n",
       "      <td>monitor</td>\n",
       "      <td>0.008462</td>\n",
       "      <td>censorship</td>\n",
       "      <td>0.015816</td>\n",
       "      <td>allow</td>\n",
       "      <td>0.01158</td>\n",
       "    </tr>\n",
       "    <tr>\n",
       "      <th>5</th>\n",
       "      <td>issue</td>\n",
       "      <td>0.01185</td>\n",
       "      <td>support</td>\n",
       "      <td>0.011396</td>\n",
       "      <td>use</td>\n",
       "      <td>0.012047</td>\n",
       "      <td>platform</td>\n",
       "      <td>0.016685</td>\n",
       "      <td>check</td>\n",
       "      <td>0.024693</td>\n",
       "      <td>sell</td>\n",
       "      <td>0.008461</td>\n",
       "      <td>platform</td>\n",
       "      <td>0.013074</td>\n",
       "      <td>private</td>\n",
       "      <td>0.011085</td>\n",
       "    </tr>\n",
       "    <tr>\n",
       "      <th>6</th>\n",
       "      <td>keep</td>\n",
       "      <td>0.011711</td>\n",
       "      <td>information</td>\n",
       "      <td>0.010782</td>\n",
       "      <td>censorship</td>\n",
       "      <td>0.010515</td>\n",
       "      <td>personal</td>\n",
       "      <td>0.016156</td>\n",
       "      <td>information</td>\n",
       "      <td>0.016982</td>\n",
       "      <td>personal</td>\n",
       "      <td>0.008338</td>\n",
       "      <td></td>\n",
       "      <td>0.012525</td>\n",
       "      <td>happen</td>\n",
       "      <td>0.010746</td>\n",
       "    </tr>\n",
       "    <tr>\n",
       "      <th>7</th>\n",
       "      <td>work</td>\n",
       "      <td>0.010657</td>\n",
       "      <td>change</td>\n",
       "      <td>0.010698</td>\n",
       "      <td>personal</td>\n",
       "      <td>0.009709</td>\n",
       "      <td>track</td>\n",
       "      <td>0.013352</td>\n",
       "      <td>truth</td>\n",
       "      <td>0.015075</td>\n",
       "      <td>delete</td>\n",
       "      <td>0.008182</td>\n",
       "      <td>social</td>\n",
       "      <td>0.01211</td>\n",
       "      <td>use</td>\n",
       "      <td>0.010143</td>\n",
       "    </tr>\n",
       "    <tr>\n",
       "      <th>8</th>\n",
       "      <td>photo</td>\n",
       "      <td>0.010049</td>\n",
       "      <td>money</td>\n",
       "      <td>0.009755</td>\n",
       "      <td>keep</td>\n",
       "      <td>0.00793</td>\n",
       "      <td>censor</td>\n",
       "      <td>0.013203</td>\n",
       "      <td>free</td>\n",
       "      <td>0.014775</td>\n",
       "      <td>concern</td>\n",
       "      <td>0.007672</td>\n",
       "      <td>allow</td>\n",
       "      <td>0.012097</td>\n",
       "      <td>picture</td>\n",
       "      <td>0.009939</td>\n",
       "    </tr>\n",
       "    <tr>\n",
       "      <th>9</th>\n",
       "      <td>access</td>\n",
       "      <td>0.009082</td>\n",
       "      <td>trash</td>\n",
       "      <td>0.009581</td>\n",
       "      <td>delete</td>\n",
       "      <td>0.007858</td>\n",
       "      <td>social</td>\n",
       "      <td>0.012036</td>\n",
       "      <td>opinion</td>\n",
       "      <td>0.013374</td>\n",
       "      <td>datum</td>\n",
       "      <td>0.00716</td>\n",
       "      <td>speech</td>\n",
       "      <td>0.011968</td>\n",
       "      <td>feed</td>\n",
       "      <td>0.008683</td>\n",
       "    </tr>\n",
       "    <tr>\n",
       "      <th>10</th>\n",
       "      <td>picture</td>\n",
       "      <td>0.008925</td>\n",
       "      <td>social</td>\n",
       "      <td>0.008956</td>\n",
       "      <td>money</td>\n",
       "      <td>0.007832</td>\n",
       "      <td>steal</td>\n",
       "      <td>0.01136</td>\n",
       "      <td>allow</td>\n",
       "      <td>0.012817</td>\n",
       "      <td>censor</td>\n",
       "      <td>0.006216</td>\n",
       "      <td>use</td>\n",
       "      <td>0.011764</td>\n",
       "      <td>group</td>\n",
       "      <td>0.008624</td>\n",
       "    </tr>\n",
       "    <tr>\n",
       "      <th>11</th>\n",
       "      <td>name</td>\n",
       "      <td>0.008145</td>\n",
       "      <td>customer</td>\n",
       "      <td>0.008828</td>\n",
       "      <td>care</td>\n",
       "      <td>0.007353</td>\n",
       "      <td>private</td>\n",
       "      <td>0.008765</td>\n",
       "      <td>agenda</td>\n",
       "      <td>0.012119</td>\n",
       "      <td>control</td>\n",
       "      <td>0.006198</td>\n",
       "      <td>checker</td>\n",
       "      <td>0.011538</td>\n",
       "      <td>profile</td>\n",
       "      <td>0.008274</td>\n",
       "    </tr>\n",
       "    <tr>\n",
       "      <th>12</th>\n",
       "      <td>profile</td>\n",
       "      <td>0.007831</td>\n",
       "      <td>free</td>\n",
       "      <td>0.008593</td>\n",
       "      <td>bidder</td>\n",
       "      <td>0.006424</td>\n",
       "      <td>censorship</td>\n",
       "      <td>0.007467</td>\n",
       "      <td>checker</td>\n",
       "      <td>0.01144</td>\n",
       "      <td>stay</td>\n",
       "      <td>0.006047</td>\n",
       "      <td>control</td>\n",
       "      <td>0.010916</td>\n",
       "      <td>page</td>\n",
       "      <td>0.008045</td>\n",
       "    </tr>\n",
       "    <tr>\n",
       "      <th>13</th>\n",
       "      <td>privacy</td>\n",
       "      <td>0.007527</td>\n",
       "      <td>Instagram</td>\n",
       "      <td>0.008227</td>\n",
       "      <td>buy</td>\n",
       "      <td>0.006182</td>\n",
       "      <td>money</td>\n",
       "      <td>0.006968</td>\n",
       "      <td>use</td>\n",
       "      <td>0.010689</td>\n",
       "      <td>star</td>\n",
       "      <td>0.005913</td>\n",
       "      <td>political</td>\n",
       "      <td>0.010753</td>\n",
       "      <td>content</td>\n",
       "      <td>0.007712</td>\n",
       "    </tr>\n",
       "    <tr>\n",
       "      <th>14</th>\n",
       "      <td>request</td>\n",
       "      <td>0.00737</td>\n",
       "      <td>sell</td>\n",
       "      <td>0.008105</td>\n",
       "      <td>content</td>\n",
       "      <td>0.006152</td>\n",
       "      <td>spy</td>\n",
       "      <td>0.006893</td>\n",
       "      <td>political</td>\n",
       "      <td>0.010515</td>\n",
       "      <td>recommend</td>\n",
       "      <td>0.005405</td>\n",
       "      <td>opinion</td>\n",
       "      <td>0.009692</td>\n",
       "      <td>back</td>\n",
       "      <td>0.007605</td>\n",
       "    </tr>\n",
       "    <tr>\n",
       "      <th>15</th>\n",
       "      <td>location</td>\n",
       "      <td>0.007317</td>\n",
       "      <td>political</td>\n",
       "      <td>0.008072</td>\n",
       "      <td>data</td>\n",
       "      <td>0.006031</td>\n",
       "      <td>profit</td>\n",
       "      <td>0.006888</td>\n",
       "      <td>propaganda</td>\n",
       "      <td>0.010211</td>\n",
       "      <td>opinion</td>\n",
       "      <td>0.005128</td>\n",
       "      <td>news</td>\n",
       "      <td>0.009603</td>\n",
       "      <td>horrible</td>\n",
       "      <td>0.007328</td>\n",
       "    </tr>\n",
       "    <tr>\n",
       "      <th>16</th>\n",
       "      <td>business</td>\n",
       "      <td>0.00725</td>\n",
       "      <td>security</td>\n",
       "      <td>0.007916</td>\n",
       "      <td>fake</td>\n",
       "      <td>0.005964</td>\n",
       "      <td>product</td>\n",
       "      <td>0.006823</td>\n",
       "      <td>narrative</td>\n",
       "      <td>0.008904</td>\n",
       "      <td>censorship</td>\n",
       "      <td>0.004927</td>\n",
       "      <td>view</td>\n",
       "      <td>0.008948</td>\n",
       "      <td>photo</td>\n",
       "      <td>0.007235</td>\n",
       "    </tr>\n",
       "    <tr>\n",
       "      <th>17</th>\n",
       "      <td>information</td>\n",
       "      <td>0.00693</td>\n",
       "      <td>help</td>\n",
       "      <td>0.007472</td>\n",
       "      <td>Privacy</td>\n",
       "      <td>0.00582</td>\n",
       "      <td>collect</td>\n",
       "      <td>0.006687</td>\n",
       "      <td>social</td>\n",
       "      <td>0.008877</td>\n",
       "      <td>safe</td>\n",
       "      <td>0.004892</td>\n",
       "      <td>free</td>\n",
       "      <td>0.008816</td>\n",
       "      <td>ban</td>\n",
       "      <td>0.007058</td>\n",
       "    </tr>\n",
       "    <tr>\n",
       "      <th>18</th>\n",
       "      <td>right</td>\n",
       "      <td>0.006878</td>\n",
       "      <td>member</td>\n",
       "      <td>0.007186</td>\n",
       "      <td>business</td>\n",
       "      <td>0.005697</td>\n",
       "      <td>delete</td>\n",
       "      <td>0.006667</td>\n",
       "      <td>platform</td>\n",
       "      <td>0.008756</td>\n",
       "      <td>garbage</td>\n",
       "      <td>0.004741</td>\n",
       "      <td>freedom</td>\n",
       "      <td>0.008717</td>\n",
       "      <td>comment</td>\n",
       "      <td>0.007054</td>\n",
       "    </tr>\n",
       "    <tr>\n",
       "      <th>19</th>\n",
       "      <td>service</td>\n",
       "      <td>0.00663</td>\n",
       "      <td>page</td>\n",
       "      <td>0.006914</td>\n",
       "      <td>high</td>\n",
       "      <td>0.005512</td>\n",
       "      <td>life</td>\n",
       "      <td>0.005699</td>\n",
       "      <td>censoring</td>\n",
       "      <td>0.008175</td>\n",
       "      <td>conversation</td>\n",
       "      <td>0.004738</td>\n",
       "      <td>world</td>\n",
       "      <td>0.008535</td>\n",
       "      <td>block</td>\n",
       "      <td>0.006921</td>\n",
       "    </tr>\n",
       "    <tr>\n",
       "      <th>20</th>\n",
       "      <td>trust</td>\n",
       "      <td>0.006495</td>\n",
       "      <td>personal</td>\n",
       "      <td>0.006561</td>\n",
       "      <td>connect</td>\n",
       "      <td>0.005402</td>\n",
       "      <td>open</td>\n",
       "      <td>0.004542</td>\n",
       "      <td>violate</td>\n",
       "      <td>0.007773</td>\n",
       "      <td>issue</td>\n",
       "      <td>0.004479</td>\n",
       "      <td>place</td>\n",
       "      <td>0.007991</td>\n",
       "      <td>life</td>\n",
       "      <td>0.006847</td>\n",
       "    </tr>\n",
       "    <tr>\n",
       "      <th>21</th>\n",
       "      <td>fake</td>\n",
       "      <td>0.006377</td>\n",
       "      <td>keep</td>\n",
       "      <td>0.006278</td>\n",
       "      <td>start</td>\n",
       "      <td>0.005335</td>\n",
       "      <td>find</td>\n",
       "      <td>0.003828</td>\n",
       "      <td>believe</td>\n",
       "      <td>0.007446</td>\n",
       "      <td>collect</td>\n",
       "      <td>0.004378</td>\n",
       "      <td>agenda</td>\n",
       "      <td>0.007977</td>\n",
       "      <td>keep</td>\n",
       "      <td>0.006806</td>\n",
       "    </tr>\n",
       "  </tbody>\n",
       "</table>\n",
       "</div>"
      ],
      "text/plain": [
       "             0         1            2         3            4         5   \\\n",
       "0       account  0.049291          use  0.029017        datum  0.027079   \n",
       "1           use  0.022612      account  0.018332      privacy  0.021967   \n",
       "2        report  0.018414     business  0.018235         sell  0.018575   \n",
       "3        social  0.014836         hack  0.014628  information   0.01699   \n",
       "4        delete  0.014369        datum  0.012462       policy  0.014052   \n",
       "5         issue   0.01185      support  0.011396          use  0.012047   \n",
       "6          keep  0.011711  information  0.010782   censorship  0.010515   \n",
       "7          work  0.010657       change  0.010698     personal  0.009709   \n",
       "8         photo  0.010049        money  0.009755         keep   0.00793   \n",
       "9        access  0.009082        trash  0.009581       delete  0.007858   \n",
       "10      picture  0.008925       social  0.008956        money  0.007832   \n",
       "11         name  0.008145     customer  0.008828         care  0.007353   \n",
       "12      profile  0.007831         free  0.008593       bidder  0.006424   \n",
       "13      privacy  0.007527    Instagram  0.008227          buy  0.006182   \n",
       "14      request   0.00737         sell  0.008105      content  0.006152   \n",
       "15     location  0.007317    political  0.008072         data  0.006031   \n",
       "16     business   0.00725     security  0.007916         fake  0.005964   \n",
       "17  information   0.00693         help  0.007472      Privacy   0.00582   \n",
       "18        right  0.006878       member  0.007186     business  0.005697   \n",
       "19      service   0.00663         page  0.006914         high  0.005512   \n",
       "20        trust  0.006495     personal  0.006561      connect  0.005402   \n",
       "21         fake  0.006377         keep  0.006278        start  0.005335   \n",
       "\n",
       "             6         7            8         9             10        11  \\\n",
       "0   information  0.034175   censorship  0.042573       privacy  0.057825   \n",
       "1         datum  0.033475       censor  0.036337           use  0.030653   \n",
       "2          sell  0.030243       speech  0.033109   information   0.02676   \n",
       "3           use  0.024564        right  0.031869         track  0.015023   \n",
       "4       privacy  0.016703      freedom  0.028669       monitor  0.008462   \n",
       "5      platform  0.016685        check  0.024693          sell  0.008461   \n",
       "6      personal  0.016156  information  0.016982      personal  0.008338   \n",
       "7         track  0.013352        truth  0.015075        delete  0.008182   \n",
       "8        censor  0.013203         free  0.014775       concern  0.007672   \n",
       "9        social  0.012036      opinion  0.013374         datum   0.00716   \n",
       "10        steal   0.01136        allow  0.012817        censor  0.006216   \n",
       "11      private  0.008765       agenda  0.012119       control  0.006198   \n",
       "12   censorship  0.007467      checker   0.01144          stay  0.006047   \n",
       "13        money  0.006968          use  0.010689          star  0.005913   \n",
       "14          spy  0.006893    political  0.010515     recommend  0.005405   \n",
       "15       profit  0.006888   propaganda  0.010211       opinion  0.005128   \n",
       "16      product  0.006823    narrative  0.008904    censorship  0.004927   \n",
       "17      collect  0.006687       social  0.008877          safe  0.004892   \n",
       "18       delete  0.006667     platform  0.008756       garbage  0.004741   \n",
       "19         life  0.005699    censoring  0.008175  conversation  0.004738   \n",
       "20         open  0.004542      violate  0.007773         issue  0.004479   \n",
       "21         find  0.003828      believe  0.007446       collect  0.004378   \n",
       "\n",
       "             12        13           14        15  \n",
       "0        censor  0.034645      account  0.019971  \n",
       "1   information  0.023475        video  0.015834  \n",
       "2         share  0.022051        share  0.015133  \n",
       "3         truth  0.019217  information  0.012917  \n",
       "4    censorship  0.015816        allow   0.01158  \n",
       "5      platform  0.013074      private  0.011085  \n",
       "6                0.012525       happen  0.010746  \n",
       "7        social   0.01211          use  0.010143  \n",
       "8         allow  0.012097      picture  0.009939  \n",
       "9        speech  0.011968         feed  0.008683  \n",
       "10          use  0.011764        group  0.008624  \n",
       "11      checker  0.011538      profile  0.008274  \n",
       "12      control  0.010916         page  0.008045  \n",
       "13    political  0.010753      content  0.007712  \n",
       "14      opinion  0.009692         back  0.007605  \n",
       "15         news  0.009603     horrible  0.007328  \n",
       "16         view  0.008948        photo  0.007235  \n",
       "17         free  0.008816          ban  0.007058  \n",
       "18      freedom  0.008717      comment  0.007054  \n",
       "19        world  0.008535        block  0.006921  \n",
       "20        place  0.007991         life  0.006847  \n",
       "21       agenda  0.007977         keep  0.006806  "
      ]
     },
     "execution_count": 132,
     "metadata": {},
     "output_type": "execute_result"
    }
   ],
   "source": [
    "df.T"
   ]
  },
  {
   "cell_type": "code",
   "execution_count": 28,
   "id": "d438523b-3781-4e37-bc84-947b188ac791",
   "metadata": {},
   "outputs": [],
   "source": [
    "# df.T.to_excel('./LDA-result-v2.xlsx')"
   ]
  },
  {
   "cell_type": "code",
   "execution_count": 29,
   "id": "0a522fd8-05dc-4784-86e7-723431a0fe16",
   "metadata": {},
   "outputs": [],
   "source": [
    "# review_text.concordance('account')"
   ]
  },
  {
   "cell_type": "code",
   "execution_count": 136,
   "id": "a46b3f59-7c0e-4a11-ac4d-edbc3371f571",
   "metadata": {},
   "outputs": [],
   "source": [
    "doc_rank = doc_topic[:,3].argsort()[::-1]"
   ]
  },
  {
   "cell_type": "code",
   "execution_count": 137,
   "id": "ce3ee455-f211-4ac7-9a9f-d8bda03a6210",
   "metadata": {},
   "outputs": [
    {
     "data": {
      "text/plain": [
       "array([  24,  103,   83,  496, 2680,  107,  918, 1599,   48,  690,  148,\n",
       "       2032, 2391, 2087, 2105])"
      ]
     },
     "execution_count": 137,
     "metadata": {},
     "output_type": "execute_result"
    }
   ],
   "source": [
    "doc_rank[:15]"
   ]
  },
  {
   "cell_type": "code",
   "execution_count": 138,
   "id": "2469ad96-e711-408e-9443-de3ea0fb1dec",
   "metadata": {},
   "outputs": [
    {
     "name": "stdout",
     "output_type": "stream",
     "text": [
      "Personal information. Facebook is shady and is not in the best interest of its users. If my family didnt use this app theres not a chance it would be on my phone. I hope u enjoy my data.\n",
      "Privacy breach. Facebooks ad tracking data is super invasive into your personal life and searches.\n",
      "STOP SELLING OUR DATA. Facebook steals your data then sells it to advertisers, this includes your location, what you look up, and what you like.\n",
      "Bad business model. They track you and sell your data  with no way to opt out. Avoid Facebook products at all costs.\n",
      "Welcome to the gulag. FB is in the business of tracking and selling your data and censoring anything that doesnt align with the mainstream narrative. Im over it.\n",
      "Whats in the box?. Where does all the data go? Facebook is stealing personal data from users and is censoring users based on said data.\n",
      "No worth the time. The way the data is being used by facebook, the restrictions impose to the usuarios FB is just an app that takes space out of my techs...\n",
      "Tracking activity. Fb is tracking activity whatever you do whatever you speak they record you\n",
      "Invasion of privacy. This app gives your personal information to Facebook and allows them to sell it to companies for profit. You get nothing in exchange.\n",
      "Must READ. Facebook is on the blackmarket where people steal and sell your information If you dont believe me look it up for yourself.\n",
      "Sales your personal info to China. Facebook wants your personal information so they can sell it to people\n",
      "Spy tool. Its a big spy tool, they collect the information and sell it to other parties. No need FB any more.\n",
      "Terrible Company. Overall facebook is terrible they make money off stealing your data\n",
      "Facebook steals your identity. and tells you what you think without you even realizing they are doing it to impose an anti American agenda. Im against that.\n",
      "Will give it negative stars if I could. All they care about is selling your privacy data for more ad revenue.\n"
     ]
    }
   ],
   "source": [
    "for item in reviews_arr[doc_rank[:15]]:\n",
    "    print(item)"
   ]
  },
  {
   "cell_type": "code",
   "execution_count": 139,
   "id": "73c770c2-fbc7-4f70-b4d0-ad659ed303be",
   "metadata": {},
   "outputs": [
    {
     "name": "stderr",
     "output_type": "stream",
     "text": [
      "/usr/local/anaconda3/lib/python3.9/site-packages/torch/autocast_mode.py:162: UserWarning: User provided device_type of 'cuda', but CUDA is not available. Disabling\n",
      "  warnings.warn('User provided device_type of \\'cuda\\', but CUDA is not available. Disabling')\n"
     ]
    }
   ],
   "source": [
    "import spacy\n",
    "import nltk\n",
    "\n",
    "nlp = spacy.load('en_core_web_trf')\n",
    "\n",
    "\n",
    "start_token = '<START>'\n",
    "end_token = '<END>'\n",
    "\n",
    "lemma_list = []\n",
    "for idx in doc_rank[:100]:\n",
    "    text = reviews[idx]\n",
    "    text = text.replace('.',' . ')\n",
    "    doc = nlp(text)\n",
    "    lemma_list.append(start_token)\n",
    "    for token in doc:\n",
    "        lemma = token.lemma_\n",
    "        lemma_list.append(lemma)\n",
    "    lemma_list.append(end_token)    \n",
    "    \n",
    "topic_reviews = nltk.Text(lemma_list)"
   ]
  },
  {
   "cell_type": "code",
   "execution_count": 146,
   "id": "d2e0045d-ce36-458d-90fe-a3b15855dd5c",
   "metadata": {},
   "outputs": [
    {
     "name": "stdout",
     "output_type": "stream",
     "text": [
      "Displaying 25 of 41 matches:\n",
      " and search . <END> <START> stop sell our datum .   Facebook steal you\n",
      "   Facebook steal your data then sell it to advertiser , this include \n",
      "ess model .   they track you and sell your datum   with no way to opt \n",
      " be in the business of track and sell your datum and censor anything t\n",
      "on to Facebook and allow they to sell it to company for profit .   you\n",
      "ackmarket where people steal and sell your information if you do nt be\n",
      "personal information so they can sell it to people <END> <START> spy t\n",
      "they collect the information and sell it to other party .   no need FB\n",
      "could .   all they care about be sell your privacy datum for more ad r\n",
      "T> Facebook steal datum and then sell it .   Facebook be track your ev\n",
      "r .   facebook protect nazis and sell all of your private information \n",
      " if you want your personal datum sell and share with 3rd party <END> <\n",
      ". <END> <START> spy .   Facebook sell your private datum to other comp\n",
      "everything about you so they can sell your information <END> <START> c\n",
      "D> <START> criminal .   Facebook sell your information and censor what\n",
      "D> <START> Facebook .   Facebook sell your information .   it not a tr\n",
      "END> <START> beware .   Facebook sell your datum and censor people tha\n",
      " invasive <END> <START> Facebook sell your datum .   critical pricvacy\n",
      "> <START> dear Facebook .   stop sell my data and info pls <END> <STAR\n",
      "l media platform ever   .   they sell your data <END> <START> you be t\n",
      " you be the product .   Facebook sell your datum to advertising compan\n",
      "me annoying to use <END> <START> sell my private info , not cool .   I\n",
      "r datum . <END> <START> this app sell your datum   .   Facebook be wor\n",
      "ART> no privacy .   this company sell user information <END> <START> s\n",
      "l user information <END> <START> sell out .   Facebook sell all your i\n"
     ]
    }
   ],
   "source": [
    "topic_reviews.concordance('sell',70)"
   ]
  },
  {
   "cell_type": "code",
   "execution_count": 35,
   "id": "d3dcce7f-50c1-40de-a324-dce1b1e35f16",
   "metadata": {},
   "outputs": [
    {
     "name": "stdout",
     "output_type": "stream",
     "text": [
      "1 fact checker\n",
      "2 first amendment\n",
      "3 personal information\n",
      "4 sensor ship\n",
      "5 privacy setting\n",
      "6 platform come\n",
      "7 much sensoring\n",
      "8 thing happen\n",
      "9 racist company\n",
      "10 fact check\n"
     ]
    }
   ],
   "source": [
    "counter = 0\n",
    "for word_tuple in topic_reviews.collocation_list(num=30):\n",
    "    if start_token in word_tuple or end_token in word_tuple:\n",
    "        continue\n",
    "    else:\n",
    "        counter += 1\n",
    "        print(counter, ' '.join(word_tuple))\n",
    "        if counter == 10:\n",
    "            break"
   ]
  },
  {
   "cell_type": "code",
   "execution_count": 36,
   "id": "f112c3c7-a1d3-441f-a694-d540084e6a2f",
   "metadata": {},
   "outputs": [],
   "source": [
    "from nltk import FreqDist\n",
    "from nltk.corpus import stopwords\n",
    "# import string\n",
    "STOPWORDS = stopwords.words('english') + ['nt','go','facebook','one','app',\n",
    "                                          'people','fb','many','nothing','much',\n",
    "                                         'make','want','anything','every','time',\n",
    "                                         'know','get']\n",
    "fdist = FreqDist([word for word in topic_reviews if word.lower() not in STOPWORDS and word.isalpha()])"
   ]
  },
  {
   "cell_type": "code",
   "execution_count": 37,
   "id": "ecd44486-aed8-4677-a735-37ef2f2a5ee8",
   "metadata": {},
   "outputs": [
    {
     "data": {
      "text/plain": [
       "[('privacy', 28),\n",
       " ('information', 21),\n",
       " ('post', 17),\n",
       " ('see', 16),\n",
       " ('censor', 16),\n",
       " ('ad', 14),\n",
       " ('private', 12),\n",
       " ('friend', 12),\n",
       " ('censorship', 12),\n",
       " ('content', 11),\n",
       " ('fact', 11),\n",
       " ('use', 9),\n",
       " ('account', 8),\n",
       " ('even', 8),\n",
       " ('family', 8),\n",
       " ('sell', 8),\n",
       " ('freedom', 8),\n",
       " ('bad', 8),\n",
       " ('share', 7),\n",
       " ('personal', 7)]"
      ]
     },
     "execution_count": 37,
     "metadata": {},
     "output_type": "execute_result"
    }
   ],
   "source": [
    "fdist.most_common(20)"
   ]
  },
  {
   "cell_type": "code",
   "execution_count": 38,
   "id": "7a598bd3-e7e7-422c-b466-02a7d5cc7c27",
   "metadata": {},
   "outputs": [
    {
     "data": {
      "text/plain": [
       "<wordcloud.wordcloud.WordCloud at 0x7fd6ba466fd0>"
      ]
     },
     "execution_count": 38,
     "metadata": {},
     "output_type": "execute_result"
    },
    {
     "data": {
      "image/png": "[encoded data removed]",
      "text/plain": [
       "<Figure size 432x288 with 1 Axes>"
      ]
     },
     "metadata": {
      "needs_background": "light"
     },
     "output_type": "display_data"
    }
   ],
   "source": [
    "import wordcloud\n",
    "import matplotlib.pyplot as plt\n",
    "\n",
    "w = wordcloud.WordCloud(width=450,height=300,background_color='white',relative_scaling=0.5,font_path='./simhei.ttf')\n",
    "w.fit_words(dict(fdist.most_common(20)))\n",
    "plt.axis('off')\n",
    "plt.imshow(w)\n",
    "w.to_file('./topic_7.png')"
   ]
  },
  {
   "cell_type": "code",
   "execution_count": 46,
   "id": "0440419d-8796-4d14-bf05-0fcbf441b5a3",
   "metadata": {},
   "outputs": [],
   "source": [
    "topic_dict = {}\n",
    "for idx,item in enumerate(doc_topic):\n",
    "    min_prob = np.min(item)\n",
    "    labels = set(np.array(range(8))) - set(np.where(item == np.min(item))[0])\n",
    "    # labels = set(np.array(range(5))) - set(np.where(item <= 0.1)[0])\n",
    "    for label in labels:\n",
    "        topic_dict[label] = topic_dict.get(label,[])\n",
    "        topic_dict[label].append(idx)"
   ]
  },
  {
   "cell_type": "code",
   "execution_count": 47,
   "id": "f69e7103-ad5e-46ad-9b1d-fdd64c1e6499",
   "metadata": {},
   "outputs": [
    {
     "data": {
      "text/plain": [
       "dict_keys([3, 4, 5, 0, 1, 2, 6, 7])"
      ]
     },
     "execution_count": 47,
     "metadata": {},
     "output_type": "execute_result"
    }
   ],
   "source": [
    "topic_dict.keys()"
   ]
  },
  {
   "cell_type": "code",
   "execution_count": 48,
   "id": "0174d149-aa6b-4380-b1df-9ff62597c026",
   "metadata": {},
   "outputs": [
    {
     "name": "stdout",
     "output_type": "stream",
     "text": [
      "4 629\n",
      "5 388\n",
      "6 263\n",
      "1 2143\n",
      "2 1933\n",
      "3 1251\n",
      "7 251\n",
      "8 111\n"
     ]
    }
   ],
   "source": [
    "for topic in topic_dict.keys():\n",
    "    print(topic + 1,len(topic_dict[topic]))"
   ]
  },
  {
   "cell_type": "code",
   "execution_count": 49,
   "id": "94942e7d-5f64-4191-bfc0-6d20a0ea08b5",
   "metadata": {},
   "outputs": [],
   "source": [
    "false_positive = []\n",
    "for item in set(topic_dict[4] + topic_dict[6]):\n",
    "    if item not in set(topic_dict[0] + topic_dict[1] + topic_dict[2] + topic_dict[3] + topic_dict[5] + topic_dict[7]):\n",
    "        false_positive.append(item)"
   ]
  },
  {
   "cell_type": "code",
   "execution_count": 50,
   "id": "c51a76d2-a4ca-4cf5-bc65-d59c68768785",
   "metadata": {},
   "outputs": [
    {
     "data": {
      "text/plain": [
       "196"
      ]
     },
     "execution_count": 50,
     "metadata": {},
     "output_type": "execute_result"
    }
   ],
   "source": [
    "false_positive.__len__()"
   ]
  },
  {
   "cell_type": "code",
   "execution_count": 51,
   "id": "2d067479-10e8-4deb-905e-d14ba8f42411",
   "metadata": {},
   "outputs": [
    {
     "data": {
      "text/plain": [
       "[1846, 1863, 1866, 1879, 1883, 1909, 1988, 1997, 2011, 2039]"
      ]
     },
     "execution_count": 51,
     "metadata": {},
     "output_type": "execute_result"
    }
   ],
   "source": [
    "false_positive[-10:]"
   ]
  },
  {
   "cell_type": "code",
   "execution_count": 52,
   "id": "61d7386f-89ec-49d6-bc53-efd70dac586b",
   "metadata": {},
   "outputs": [
    {
     "data": {
      "text/plain": [
       "[2060, 2067, 2072, 2081, 2102, 2115, 2156, 2182, 2227, 2235]"
      ]
     },
     "execution_count": 52,
     "metadata": {},
     "output_type": "execute_result"
    }
   ],
   "source": [
    "false_positive[:10]"
   ]
  },
  {
   "cell_type": "code",
   "execution_count": 53,
   "id": "8df1a8c6-cbb2-494d-baff-3cc2d215f335",
   "metadata": {},
   "outputs": [
    {
     "data": {
      "text/plain": [
       "'Freedom is more important than Facebook. Bad to censor'"
      ]
     },
     "execution_count": 53,
     "metadata": {},
     "output_type": "execute_result"
    }
   ],
   "source": [
    "reviews[2039]"
   ]
  },
  {
   "cell_type": "code",
   "execution_count": 54,
   "id": "9ee8cb40-8a78-4204-8cdc-e1da65b17f43",
   "metadata": {},
   "outputs": [
    {
     "data": {
      "text/plain": [
       "2912"
      ]
     },
     "execution_count": 54,
     "metadata": {},
     "output_type": "execute_result"
    }
   ],
   "source": [
    "len(doc_topic)"
   ]
  },
  {
   "cell_type": "code",
   "execution_count": 55,
   "id": "73dbe06b-9be0-462c-9ef5-c6bb402c863e",
   "metadata": {},
   "outputs": [],
   "source": [
    "true_positive = list(set(range(len(doc_topic))) - set(false_positive))"
   ]
  },
  {
   "cell_type": "code",
   "execution_count": 56,
   "id": "68ea8e28-d171-4bac-a55e-5cf022acc96d",
   "metadata": {},
   "outputs": [
    {
     "data": {
      "text/plain": [
       "2716"
      ]
     },
     "execution_count": 56,
     "metadata": {},
     "output_type": "execute_result"
    }
   ],
   "source": [
    "len(true_positive)"
   ]
  },
  {
   "cell_type": "code",
   "execution_count": 57,
   "id": "e33ea594-84af-408e-b5a1-1f086991d1e6",
   "metadata": {},
   "outputs": [
    {
     "data": {
      "text/plain": [
       "list"
      ]
     },
     "execution_count": 57,
     "metadata": {},
     "output_type": "execute_result"
    }
   ],
   "source": [
    "true_positive.__class__ # the set of true positive document id"
   ]
  },
  {
   "cell_type": "code",
   "execution_count": 58,
   "id": "388eec42-c668-4365-ba1a-56e2717a279c",
   "metadata": {},
   "outputs": [
    {
     "data": {
      "text/plain": [
       "array([[0.0114    , 0.0114    , 0.0114    , ..., 0.0114    , 0.0114    ,\n",
       "        0.0114    ],\n",
       "       [0.0128    , 0.0128    , 0.0128    , ..., 0.324     , 0.0128    ,\n",
       "        0.0128    ],\n",
       "       [0.2106    , 0.32690001, 0.45140001, ..., 0.        , 0.        ,\n",
       "        0.        ],\n",
       "       ...,\n",
       "       [0.57080001, 0.3989    , 0.        , ..., 0.        , 0.        ,\n",
       "        0.        ],\n",
       "       [0.95829999, 0.        , 0.        , ..., 0.        , 0.        ,\n",
       "        0.        ],\n",
       "       [0.1936    , 0.146     , 0.0431    , ..., 0.        , 0.        ,\n",
       "        0.        ]])"
      ]
     },
     "execution_count": 58,
     "metadata": {},
     "output_type": "execute_result"
    }
   ],
   "source": [
    "doc_topic"
   ]
  },
  {
   "cell_type": "code",
   "execution_count": 59,
   "id": "1d37b5fd-4605-4f32-9647-729b540af918",
   "metadata": {},
   "outputs": [
    {
     "data": {
      "text/plain": [
       "array([0.0114    , 0.0114    , 0.0114    , 0.61870003, 0.31310001,\n",
       "       0.0114    , 0.0114    , 0.0114    ])"
      ]
     },
     "execution_count": 59,
     "metadata": {},
     "output_type": "execute_result"
    }
   ],
   "source": [
    "doc_topic[0]"
   ]
  },
  {
   "cell_type": "code",
   "execution_count": 60,
   "id": "543a9057-a1b1-481a-8c51-17b8918ad555",
   "metadata": {},
   "outputs": [],
   "source": [
    "another_topic_dict = {}\n",
    "for idx,item in enumerate(doc_topic):\n",
    "    label = item.argmax()\n",
    "    another_topic_dict[label] = another_topic_dict.get(label,[])\n",
    "    another_topic_dict[label].append(idx)"
   ]
  },
  {
   "cell_type": "code",
   "execution_count": 61,
   "id": "e8416feb-355e-4940-b445-7770a725d15d",
   "metadata": {},
   "outputs": [
    {
     "name": "stdout",
     "output_type": "stream",
     "text": [
      "4 247\n",
      "3 463\n",
      "2 774\n",
      "1 808\n",
      "6 169\n",
      "7 181\n",
      "5 225\n",
      "8 45\n"
     ]
    }
   ],
   "source": [
    "for topic in another_topic_dict.keys():\n",
    "    print(topic + 1,len(another_topic_dict[topic]))"
   ]
  },
  {
   "cell_type": "code",
   "execution_count": 63,
   "id": "161d5bfe-0845-4cd6-b03b-9cd03f9fbbcc",
   "metadata": {},
   "outputs": [
    {
     "name": "stdout",
     "output_type": "stream",
     "text": [
      "[112, 173, 194, 198, 217, 259, 270, 290, 305, 315, 392, 473, 495, 500, 585, 612, 630, 635, 662, 686, 714, 762, 812, 822, 823, 834, 849, 850, 854, 870, 917, 920, 921, 931, 935, 946, 974, 982, 990, 1002, 1005, 1011, 1040, 1046, 1063, 1080, 1094, 1097, 1098, 1106, 1112, 1119, 1129, 1144, 1154, 1159, 1168, 1209, 1210, 1211, 1217, 1227, 1240, 1266, 1299, 1303, 1310, 1317, 1319, 1323, 1337, 1338, 1353, 1360, 1368, 1407, 1415, 1426, 1438, 1461, 1472, 1505, 1510, 1511, 1535, 1551, 1564, 1566, 1575, 1577, 1579, 1588, 1602, 1604, 1606, 1607, 1615, 1617, 1647, 1649, 1671, 1674, 1686, 1691, 1692, 1693, 1726, 1728, 1751, 1755, 1756, 1759, 1766, 1772, 1798, 1810, 1825, 1834, 1840, 1841, 1863, 1877, 1879, 1907, 1929, 1940, 1962, 1988, 1989, 1990, 1997, 2011, 2038, 2039, 2041, 2069, 2086, 2102, 2115, 2118, 2123, 2138, 2139, 2155, 2157, 2159, 2170, 2173, 2174, 2175, 2196, 2200, 2223, 2228, 2233, 2235, 2246, 2257, 2265, 2269, 2303, 2308, 2314, 2317, 2339, 2345, 2350, 2357, 2361, 2362, 2371, 2381, 2392, 2397, 2429, 2436, 2451, 2455, 2483, 2487, 2489, 2491, 2493, 2496, 2498, 2506, 2524, 2529, 2531, 2549, 2550, 2575, 2582, 2589, 2599, 2600, 2632, 2640, 2641, 2652, 2658, 2669, 2671, 2674, 2690, 2695, 2700, 2727, 2754, 2776, 2779, 2783, 2813, 2817, 2819, 2820, 2827, 2830, 2841, 2848, 2870, 2872, 2873, 2878, 2911]\n"
     ]
    }
   ],
   "source": [
    "print(another_topic_dict[4][:])"
   ]
  },
  {
   "cell_type": "code",
   "execution_count": 64,
   "id": "3c93f63f-61c3-44ef-9047-4b3ab440bf35",
   "metadata": {},
   "outputs": [
    {
     "data": {
      "text/plain": [
       "'Censoring everyone. Facebook is violating our first amendment Rights and will only allow information if it follows their narrative'"
      ]
     },
     "execution_count": 64,
     "metadata": {},
     "output_type": "execute_result"
    }
   ],
   "source": [
    "reviews[217]"
   ]
  },
  {
   "cell_type": "code",
   "execution_count": 65,
   "id": "8b584412-f185-4a24-a727-5267ea6fc1a1",
   "metadata": {},
   "outputs": [
    {
     "data": {
      "text/plain": [
       "array([0.1793    , 0.2114    , 0.59439999, 0.        , 0.        ,\n",
       "       0.        , 0.        , 0.        ])"
      ]
     },
     "execution_count": 65,
     "metadata": {},
     "output_type": "execute_result"
    }
   ],
   "source": [
    "doc_topic[561]"
   ]
  },
  {
   "cell_type": "code",
   "execution_count": 77,
   "id": "5ea9e6cc-9772-409a-a3e4-2a9a8ccff667",
   "metadata": {},
   "outputs": [],
   "source": [
    "clean_reviews = []\n",
    "scores = []\n",
    "for i in [0,1,2,3,5,7]:\n",
    "    for idx in another_topic_dict[i]:\n",
    "        clean_reviews.append(reviews[idx])\n",
    "        scores.append(lines[idx][-3])"
   ]
  },
  {
   "cell_type": "code",
   "execution_count": 78,
   "id": "64e8fd9b-de00-4fda-b424-5fa4f9368d31",
   "metadata": {},
   "outputs": [
    {
     "data": {
      "text/plain": [
       "(2506, 2506, 406)"
      ]
     },
     "execution_count": 78,
     "metadata": {},
     "output_type": "execute_result"
    }
   ],
   "source": [
    "len(clean_reviews), len(scores),len(reviews) - len(clean_reviews)"
   ]
  },
  {
   "cell_type": "code",
   "execution_count": 79,
   "id": "33db9740-0463-4c79-8a22-ab98f1a24595",
   "metadata": {},
   "outputs": [],
   "source": [
    "import numpy as np"
   ]
  },
  {
   "cell_type": "code",
   "execution_count": 80,
   "id": "f5802c11-598d-4a45-9294-73ed0321ec79",
   "metadata": {},
   "outputs": [],
   "source": [
    "score_arr = np.asarray(scores)"
   ]
  },
  {
   "cell_type": "code",
   "execution_count": 86,
   "id": "c4b5fa99-5336-4ed0-8a45-197460f8b3c3",
   "metadata": {},
   "outputs": [
    {
     "data": {
      "text/plain": [
       "0.975658419792498"
      ]
     },
     "execution_count": 86,
     "metadata": {},
     "output_type": "execute_result"
    }
   ],
   "source": [
    "# socre1 97.57%\n",
    "np.count_nonzero(score_arr == 1)/len(clean_reviews)"
   ]
  },
  {
   "cell_type": "code",
   "execution_count": 155,
   "id": "f8905720-2624-47fe-a9d5-79e721f1efa3",
   "metadata": {},
   "outputs": [
    {
     "data": {
      "text/plain": [
       "2445"
      ]
     },
     "execution_count": 155,
     "metadata": {},
     "output_type": "execute_result"
    }
   ],
   "source": [
    "np.count_nonzero(score_arr == 1)"
   ]
  },
  {
   "cell_type": "code",
   "execution_count": 82,
   "id": "3fe85cda-790e-4864-899a-52c8463d4d66",
   "metadata": {},
   "outputs": [
    {
     "data": {
      "text/plain": [
       "1.047486033519553"
      ]
     },
     "execution_count": 82,
     "metadata": {},
     "output_type": "execute_result"
    }
   ],
   "source": [
    "# mean\n",
    "np.mean(score_arr)"
   ]
  },
  {
   "cell_type": "code",
   "execution_count": 83,
   "id": "79e878df-abec-40e6-8081-57ff3e3dc7d0",
   "metadata": {},
   "outputs": [
    {
     "data": {
      "text/plain": [
       "1.0"
      ]
     },
     "execution_count": 83,
     "metadata": {},
     "output_type": "execute_result"
    }
   ],
   "source": [
    "# median\n",
    "np.median(score_arr)"
   ]
  },
  {
   "cell_type": "code",
   "execution_count": 89,
   "id": "74369242-c041-4503-90f8-fe16b6b8e418",
   "metadata": {},
   "outputs": [],
   "source": [
    "cloud_reviews = []\n",
    "for i in [0,1,2,3,5,7]:\n",
    "    for idx in another_topic_dict[i][:100]:\n",
    "        cloud_reviews.append(reviews[idx])"
   ]
  },
  {
   "cell_type": "code",
   "execution_count": 91,
   "id": "de9902ea-da76-4f58-a033-38ebd3501c42",
   "metadata": {},
   "outputs": [],
   "source": [
    "import spacy\n",
    "import nltk\n",
    "\n",
    "nlp = spacy.load('en_core_web_trf')\n",
    "\n",
    "\n",
    "start_token = '<START>'\n",
    "end_token = '<END>'\n",
    "\n",
    "lemma_list = []\n",
    "for review in cloud_reviews:\n",
    "    text = review.replace('.',' . ')\n",
    "    doc = nlp(text)\n",
    "    lemma_list.append(start_token)\n",
    "    for token in doc:\n",
    "        lemma = token.lemma_\n",
    "        lemma_list.append(lemma)\n",
    "    lemma_list.append(end_token)\n",
    "    \n",
    "cloud_TEXT = nltk.Text(lemma_list)"
   ]
  },
  {
   "cell_type": "code",
   "execution_count": 127,
   "id": "4b6cbdce-3c0f-4b5e-a59e-71a75b672ec1",
   "metadata": {},
   "outputs": [
    {
     "name": "stdout",
     "output_type": "stream",
     "text": [
      "1 social medium\n",
      "2 personal information\n",
      "3 third party\n",
      "4 personal info\n",
      "5 social media\n",
      "6 high bidder\n",
      "7 privacy setting\n",
      "8 privacy concern\n",
      "9 3rd party\n",
      "10 personal datum\n",
      "11 make money\n",
      "12 highly recommend\n",
      "13 community standard\n",
      "14 business model\n",
      "15 private information\n",
      "16 phone number\n",
      "17 social network\n",
      "18 credit card\n",
      "19 privacy issue\n",
      "20 left wing\n"
     ]
    }
   ],
   "source": [
    "counter = 0\n",
    "for word_tuple in cloud_TEXT.collocation_list(num=50):\n",
    "    # ,'wing','every','highly','sensor'\n",
    "    if set(word_tuple) & set(['check','checker','<START>','<END>','speech','even','stay','far','United']):\n",
    "        continue\n",
    "    else:\n",
    "        counter += 1\n",
    "        print(counter, ' '.join(word_tuple))\n",
    "        if counter == 20:\n",
    "            break"
   ]
  },
  {
   "cell_type": "code",
   "execution_count": 149,
   "id": "7ac7c707-5f5c-4b34-9977-868cd67d5667",
   "metadata": {},
   "outputs": [],
   "source": [
    "from nltk import FreqDist\n",
    "from nltk.corpus import stopwords\n",
    "# import string\n",
    "STOPWORDS = stopwords.words('english') + ['nt','go','facebook','one','app',\n",
    "                                          'people','fb','many','nothing','much',\n",
    "                                         'make','want','anything','every','time',\n",
    "                                         'know','get','even','censor','censorship']\n",
    "fdist = FreqDist([word for word in cloud_TEXT if word.lower() not in STOPWORDS and word.isalpha()])"
   ]
  },
  {
   "cell_type": "code",
   "execution_count": 151,
   "id": "5e010f17-d1f9-424e-9de7-3d4998e0db06",
   "metadata": {},
   "outputs": [
    {
     "data": {
      "text/plain": [
       "[('privacy', 391),\n",
       " ('information', 282),\n",
       " ('use', 195),\n",
       " ('sell', 171),\n",
       " ('datum', 169),\n",
       " ('personal', 132),\n",
       " ('share', 102),\n",
       " ('like', 100),\n",
       " ('user', 86),\n",
       " ('post', 85),\n",
       " ('track', 83),\n",
       " ('company', 80),\n",
       " ('private', 79),\n",
       " ('social', 74),\n",
       " ('info', 68),\n",
       " ('see', 67),\n",
       " ('account', 67),\n",
       " ('need', 65),\n",
       " ('friend', 58),\n",
       " ('platform', 57),\n",
       " ('take', 57),\n",
       " ('ad', 56),\n",
       " ('fact', 56),\n",
       " ('say', 54),\n",
       " ('thing', 53),\n",
       " ('everything', 53),\n",
       " ('well', 52),\n",
       " ('control', 51),\n",
       " ('steal', 49),\n",
       " ('data', 49),\n",
       " ('delete', 49),\n",
       " ('also', 48),\n",
       " ('give', 47),\n",
       " ('way', 46),\n",
       " ('bad', 46),\n",
       " ('collect', 45),\n",
       " ('allow', 45),\n",
       " ('think', 42),\n",
       " ('without', 41),\n",
       " ('life', 39),\n",
       " ('right', 39),\n",
       " ('money', 38),\n",
       " ('phone', 38),\n",
       " ('access', 38),\n",
       " ('medium', 38),\n",
       " ('news', 36),\n",
       " ('concern', 35),\n",
       " ('would', 34),\n",
       " ('product', 34),\n",
       " ('speech', 33)]"
      ]
     },
     "execution_count": 151,
     "metadata": {},
     "output_type": "execute_result"
    }
   ],
   "source": [
    "fdist.most_common(50)"
   ]
  },
  {
   "cell_type": "code",
   "execution_count": 97,
   "id": "c9690ab1-a88e-49f8-aba1-4488179c9b19",
   "metadata": {},
   "outputs": [
    {
     "data": {
      "text/plain": [
       "<wordcloud.wordcloud.WordCloud at 0x7fd6ca1671c0>"
      ]
     },
     "execution_count": 97,
     "metadata": {},
     "output_type": "execute_result"
    },
    {
     "data": {
      "image/png": "[encoded data removed]",
      "text/plain": [
       "<Figure size 432x288 with 1 Axes>"
      ]
     },
     "metadata": {
      "needs_background": "light"
     },
     "output_type": "display_data"
    }
   ],
   "source": [
    "import wordcloud\n",
    "import matplotlib.pyplot as plt\n",
    "\n",
    "w = wordcloud.WordCloud(width=450,height=300,background_color='white',relative_scaling=0.5,font_path='./simhei.ttf')\n",
    "w.fit_words(dict(fdist.most_common(20)))\n",
    "plt.axis('off')\n",
    "plt.imshow(w)\n",
    "w.to_file('./privacy.png')"
   ]
  },
  {
   "cell_type": "code",
   "execution_count": 98,
   "id": "54920e5d-45fe-49f9-ab42-ce616cae8582",
   "metadata": {},
   "outputs": [],
   "source": [
    "files = getFileList('./new_policy',[])"
   ]
  },
  {
   "cell_type": "code",
   "execution_count": 99,
   "id": "4132c169-fc96-4402-840e-49872f3a6e41",
   "metadata": {},
   "outputs": [],
   "source": [
    "policy_text = ''\n",
    "for file in files:\n",
    "    con = readStrFromFile(file) + ' '\n",
    "    policy_text += con"
   ]
  },
  {
   "cell_type": "code",
   "execution_count": 100,
   "id": "57430e08-6812-4158-8887-e3e6f59a87ed",
   "metadata": {},
   "outputs": [],
   "source": [
    "import spacy\n",
    "import nltk\n",
    "\n",
    "nlp = spacy.load('en_core_web_trf')\n",
    "\n",
    "lemma_list = []\n",
    "\n",
    "doc = nlp(policy_text)\n",
    "for token in doc:\n",
    "    lemma = token.lemma_\n",
    "    lemma_list.append(lemma)\n",
    "lemma_list.append(end_token)    \n",
    "    \n",
    "policy_TEXT = nltk.Text(lemma_list)"
   ]
  },
  {
   "cell_type": "code",
   "execution_count": 125,
   "id": "eb8bd400-5b70-4012-a45a-2a61853dbb07",
   "metadata": {},
   "outputs": [
    {
     "name": "stdout",
     "output_type": "stream",
     "text": [
      "1 legal request\n",
      "2 cookies policy\n",
      "3 business tools\n",
      "4 special protection\n",
      "5 faith belief\n",
      "6 sponsored content\n",
      "7 law enforcement\n",
      "8 promote safety\n",
      "9 technological advancement\n",
      "10 new owner\n",
      "11 data transfer\n",
      "12 conduct survey\n",
      "13 financial transaction\n",
      "14 social welfare\n",
      "15 contact detail\n",
      "16 email address\n",
      "17 operate system\n",
      "18 phone number\n",
      "19 game developer\n",
      "20 party partner\n"
     ]
    }
   ],
   "source": [
    "counter = 0\n",
    "for word_tuple in policy_TEXT.collocation_list(num=50):\n",
    "    if set(word_tuple) & set(['Meta','Instagram','Facebook','Company','thing','United','general']):\n",
    "        continue\n",
    "    else:\n",
    "        counter += 1\n",
    "        print(counter, ' '.join(word_tuple).lower())\n",
    "        if counter == 20:\n",
    "            break"
   ]
  },
  {
   "cell_type": "code",
   "execution_count": 153,
   "id": "61a5fc83-6aac-4ed7-95a8-9f3e20c84a28",
   "metadata": {},
   "outputs": [],
   "source": [
    "from nltk import FreqDist\n",
    "from nltk.corpus import stopwords\n",
    "# import string\n",
    "STOPWORDS = stopwords.words('english') + ['nt','go','facebook','one','app','people','fb','many',\n",
    "                                          'meta','company','companies','also','product','products',\n",
    "                                         'instagram']\n",
    "fdist = FreqDist([word for word in policy_TEXT if word.lower() not in STOPWORDS and word.isalpha()])"
   ]
  },
  {
   "cell_type": "code",
   "execution_count": 154,
   "id": "d6370989-b8ef-4aab-bc4d-ce4801896a71",
   "metadata": {},
   "outputs": [
    {
     "data": {
      "text/plain": [
       "[('information', 102),\n",
       " ('use', 66),\n",
       " ('share', 42),\n",
       " ('provide', 38),\n",
       " ('include', 34),\n",
       " ('content', 29),\n",
       " ('account', 27),\n",
       " ('datum', 23),\n",
       " ('service', 22),\n",
       " ('device', 22),\n",
       " ('example', 19),\n",
       " ('partner', 18),\n",
       " ('learn', 17),\n",
       " ('ad', 17),\n",
       " ('see', 16),\n",
       " ('collect', 15),\n",
       " ('receive', 15),\n",
       " ('access', 13),\n",
       " ('party', 13),\n",
       " ('public', 13),\n",
       " ('setting', 12),\n",
       " ('like', 12),\n",
       " ('choose', 12),\n",
       " ('post', 11),\n",
       " ('activity', 11),\n",
       " ('third', 11),\n",
       " ('make', 11),\n",
       " ('business', 11),\n",
       " ('website', 11),\n",
       " ('delete', 10)]"
      ]
     },
     "execution_count": 154,
     "metadata": {},
     "output_type": "execute_result"
    }
   ],
   "source": [
    "fdist.most_common(30)"
   ]
  },
  {
   "cell_type": "code",
   "execution_count": 104,
   "id": "747c9d38-1518-4796-ba38-141e78244b79",
   "metadata": {},
   "outputs": [
    {
     "data": {
      "text/plain": [
       "<wordcloud.wordcloud.WordCloud at 0x7fd6b941c4c0>"
      ]
     },
     "execution_count": 104,
     "metadata": {},
     "output_type": "execute_result"
    },
    {
     "data": {
      "image/png": "[encoded data removed]",
      "text/plain": [
       "<Figure size 432x288 with 1 Axes>"
      ]
     },
     "metadata": {
      "needs_background": "light"
     },
     "output_type": "display_data"
    }
   ],
   "source": [
    "import wordcloud\n",
    "import matplotlib.pyplot as plt\n",
    "\n",
    "w = wordcloud.WordCloud(width=450,height=300,background_color='white',relative_scaling=0.5,font_path='./simhei.ttf')\n",
    "w.fit_words(dict(fdist.most_common(20)))\n",
    "plt.axis('off')\n",
    "plt.imshow(w)\n",
    "w.to_file('./policy.png')"
   ]
  },
  {
   "cell_type": "code",
   "execution_count": 135,
   "id": "d7cc3f03-e92f-42a5-bc48-1f82a30233ff",
   "metadata": {},
   "outputs": [
    {
     "data": {
      "text/plain": [
       "0.954"
      ]
     },
     "execution_count": 135,
     "metadata": {},
     "output_type": "execute_result"
    }
   ],
   "source": [
    "# annotation agreement\n",
    "1-(23/500.0)"
   ]
  }
 ],
 "metadata": {
  "kernelspec": {
   "display_name": "Python 3 (ipykernel)",
   "language": "python",
   "name": "python3"
  },
  "language_info": {
   "codemirror_mode": {
    "name": "ipython",
    "version": 3
   },
   "file_extension": ".py",
   "mimetype": "text/x-python",
   "name": "python",
   "nbconvert_exporter": "python",
   "pygments_lexer": "ipython3",
   "version": "3.9.7"
  }
 },
 "nbformat": 4,
 "nbformat_minor": 5
}
